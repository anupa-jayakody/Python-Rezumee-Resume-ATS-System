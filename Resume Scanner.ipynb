{
  "cells": [
    {
      "cell_type": "markdown",
      "metadata": {},
      "source": [
        "**Table of contents**<a id='toc0_'></a>    \n",
        "- [Importing Dataset & Libraries](#toc1_1_)    \n",
        "- [Resume Score](#toc2_)    \n",
        "  - [Tokenization](#toc2_1_)    \n",
        "  - [Modeling](#toc2_2_)    \n",
        "    - [Word2vec](#toc2_2_1_)    \n",
        "    - [Hyperparameter Evaluation](#toc2_2_2_)    \n",
        "    - [Word Embeddings](#toc2_2_3_)    \n",
        "  - [Vectorisation & Recommendation](#toc2_3_)    \n",
        "- [Missing Words](#toc3_)    \n",
        "\n",
        "<!-- vscode-jupyter-toc-config\n",
        "\tnumbering=false\n",
        "\tanchor=true\n",
        "\tflat=false\n",
        "\tminLevel=1\n",
        "\tmaxLevel=6\n",
        "\t/vscode-jupyter-toc-config -->\n",
        "<!-- THIS CELL WILL BE REPLACED ON TOC UPDATE. DO NOT WRITE YOUR TEXT IN THIS CELL -->"
      ]
    },
    {
      "cell_type": "markdown",
      "metadata": {},
      "source": [
        "## <a id='toc1_1_'></a>[Importing Dataset & Libraries](#toc0_)\n"
      ]
    },
    {
      "cell_type": "markdown",
      "id": "8d811087",
      "metadata": {},
      "source": [
        "In this section, I will explore Word2Vec vectorization for modeling and recommendations."
      ]
    },
    {
      "cell_type": "code",
      "execution_count": 1,
      "id": "3ba7adee",
      "metadata": {
        "id": "3ba7adee"
      },
      "outputs": [],
      "source": [
        "#importing the basic libraries\n",
        "import numpy as np\n",
        "import pandas as pd\n",
        "import matplotlib.pyplot as plt\n"
      ]
    },
    {
      "cell_type": "code",
      "execution_count": 2,
      "id": "-3Uc8d669LhS",
      "metadata": {
        "colab": {
          "base_uri": "https://localhost:8080/",
          "height": 461
        },
        "id": "-3Uc8d669LhS",
        "outputId": "52eba7d2-1481-4222-ab35-6038ed585fe4"
      },
      "outputs": [
        {
          "name": "stderr",
          "output_type": "stream",
          "text": [
            "[nltk_data] Downloading package stopwords to\n",
            "[nltk_data]     /Users/anupajayakody/nltk_data...\n",
            "[nltk_data]   Package stopwords is already up-to-date!\n"
          ]
        }
      ],
      "source": [
        "#importing the word processing libraries\n",
        "\n",
        "\n",
        " #importing the regex library\n",
        "import re\n",
        "\n",
        "#importing the nltk library\n",
        "import nltk\n",
        "\n",
        "\n",
        "#lemmatizer\n",
        "from nltk.stem import WordNetLemmatizer\n",
        "\n",
        "#  nltk stopwords\n",
        "nltk.download('stopwords')\n",
        "from nltk.corpus import stopwords\n",
        "\n",
        "#defining the stop words\n",
        "ENGLISH_STOP_WORDS = stopwords.words('english')\n",
        "\n",
        "#library to handle punctuation\n",
        "import string\n",
        "\n",
        "#counter library\n",
        "from collections import Counter\n",
        "\n",
        "import spacy\n",
        "\n",
        "#speech tagging library\n",
        "from nltk import pos_tag\n",
        "\n",
        "#library for word embedding\n",
        "from gensim.models import Word2Vec\n",
        "from gensim.models.phrases import Phrases, Phraser\n",
        "from sklearn.feature_extraction.text import TfidfVectorizer\n",
        "from nltk.tokenize import word_tokenize\n",
        "from collections import defaultdict\n",
        "from sklearn.metrics.pairwise import cosine_similarity\n",
        "from sklearn.feature_extraction.text import CountVectorizer\n",
        "import string\n",
        "\n",
        "#importing document processing library\n",
        "import PyPDF2\n",
        "import textract\n",
        "\n"
      ]
    },
    {
      "cell_type": "markdown",
      "metadata": {},
      "source": [
        "Let's first read the resume and JD documents, in this case they are stored as PDFs"
      ]
    },
    {
      "cell_type": "code",
      "execution_count": 4,
      "metadata": {},
      "outputs": [
        {
          "data": {
            "text/plain": [
              "'●\\nChampions\\na\\ncust omer-focused\\ncultur e\\nt o\\ndeepen\\nclient\\nr elationships\\nand\\nle v er age\\nbr oader\\nBank\\nr elationships,\\nsystems\\nand\\nknowledge.\\n●\\nCollabor ate\\nwith\\nk e y\\nstak eholder\\nr elationships\\nin\\nsuppor t\\nof\\npricing\\ninitiativ es\\n●\\nW orks\\ncollabor ativ ely\\nwith\\nk e y\\nstak eholders\\nincluding\\nAnalytics,\\nData\\nEngineering,\\nClient\\nMeasur ement,\\nT r easur y\\nand\\nSalesfor ce\\nt o\\nunderstand\\ndata\\ninfr astructur e\\nand\\npr o vide\\nf eedback\\nfor\\nimpr o v ement\\n●\\nW ork\\nwith\\ntechnology\\nand\\nother\\nr ele v ant\\nstak eholders\\nt o\\nsuppor t\\ndata\\ninfr astructur e\\nde v elopment,\\nsuch\\nas\\nv alidating\\ndata\\nquality\\nand\\ntesting\\ndata\\nlinkage\\n●\\nContribute\\nt o\\ndeliv ering\\nex cellent\\nuser\\nexperience,\\nsuch\\nas\\nsuppor ting\\npr oduct\\nowners\\nwith\\ntr aining,\\nsuppor ting\\nuser\\nr equests/escalations\\netc.\\n●\\nPr oactiv ely\\nsuppor t\\nv arious\\npricing\\nstak eholders\\non\\ninitiativ es\\nand\\nad-hoc\\nanalysis\\n●\\nUnderstands\\nhow\\nthe\\nBank’ s\\nrisk\\nappetite\\nand\\nrisk\\ncultur e\\nshould\\nbe\\nconsider ed\\nin\\nda y-t o-da y\\nactivities\\nand\\ndecisions.\\n●\\nActiv ely\\npursues\\neff ectiv e\\nand\\neﬃcient\\noper ations\\nof\\nhis/her\\nr espectiv e\\nar eas\\nb y\\nScotiabank’ s\\nV alues,\\nits\\nCode\\nof\\nConduct\\nand\\nthe\\nGlobal\\nSales\\nPrinciples,\\nwhile\\nensuring\\nthe\\nadequacy ,\\nadher ence\\nt o\\nand\\neff ectiv eness\\nof\\nda y-t o-da y\\nbusiness\\ncontr ols\\nt o\\nmeet\\nobligations\\nwith\\nr espect\\nt o\\noper ational,\\ncompliance,\\nAML/A TF/sanctions\\nand\\nconduct\\nrisk.\\n●\\nChampions\\na\\nhigh-per formance\\nenvir onment\\nand\\ncontributes\\nt o\\nan\\ninclusiv e\\nwork\\nenvir onment.\\nCandidate\\nRequir ements/Must\\nHa v e\\nSkills:\\n●\\n5+\\ny ears\\nof\\nexperience\\nwith\\nMS\\noﬃce\\nsuite\\n(Ex cel\\nand\\nP ower\\nP oint)\\n●\\n5+\\nexperience\\nworking\\nwith\\nbanking\\npr oducts,\\nespecially\\npricing\\nmethodological\\nknowledge\\n●\\n1-2+\\ny ears\\nof\\nexperience\\nworking\\nwith\\nData\\n●\\n1-2\\ny ears\\nof\\nexperience\\nr econciling,\\nmanipulating\\nand\\ninterpr eting\\ndata,\\nper forming\\nanalysis\\nand\\nmak e\\ninformed\\nr ecommendations.\\n●'"
            ]
          },
          "execution_count": 4,
          "metadata": {},
          "output_type": "execute_result"
        }
      ],
      "source": [
        "jd_path= open('./JD (2).pdf', 'rb')\n",
        "\n",
        "jd_reader= PyPDF2.PdfReader(jd_path)\n",
        "\n",
        "num_pages =len(jd_reader.pages)\n",
        "\n",
        "# initialize a count for the number of pages\n",
        "count = 0\n",
        "\n",
        "# initialize a text empty etring variable\n",
        "jd_text = \"\"\n",
        "\n",
        "# extract text from every page on the file\n",
        "while count < num_pages:\n",
        "    pageObj = jd_reader.pages[count]\n",
        "    count +=1\n",
        "    jd_text +=pageObj.extract_text()\n",
        "\n",
        "jd_text\n",
        "\n"
      ]
    },
    {
      "cell_type": "code",
      "execution_count": 5,
      "metadata": {},
      "outputs": [],
      "source": [
        "pdf= open('./Anupa Jayakody.pdf', 'rb')\n",
        "\n",
        "pdf_reader= PyPDF2.PdfReader(pdf)\n",
        "\n",
        "num_pages =len(pdf_reader.pages)\n",
        "\n",
        "# initialize a count for the number of pages\n",
        "count = 0\n",
        "\n",
        "# initialize a text empty etring variable\n",
        "resume_text = \"\"\n",
        "\n",
        "# extract text from every page on the file\n",
        "while count < num_pages:\n",
        "    pageObj = pdf_reader.pages[count]\n",
        "    count +=1\n",
        "    resume_text +=pageObj.extract_text()"
      ]
    },
    {
      "cell_type": "code",
      "execution_count": 6,
      "metadata": {},
      "outputs": [
        {
          "data": {
            "text/plain": [
              "'Anupa \\nJayakody\\nD\\nA\\nT\\nA\\nS\\nC\\nI\\nE\\nN\\nT\\nI\\nS\\nT\\nanupajayakody@gmail.com\\n9057829436\\nLinkedIn\\nPROFILE\\nI\\nam\\na\\nproven,\\nchallenge-seeking\\nBI\\nAnalyst,\\na\\nMicrosoft\\nCertiﬁed\\nPowerBI\\nAnalyst,\\nand\\na\\nData\\nScientist.\\nI\\npossess\\nover\\n7\\nyears\\nof\\nexperience\\nin\\nBusiness\\nIntelligence\\ngeneration\\nand\\nProject\\nManagement\\nand\\npivoting\\na\\ncareer\\nto\\nData\\nScience\\nto\\nmake\\nmy\\ndream\\nof\\na\\ncareer\\nin\\nMathematics\\ncome\\ntrue\\nby\\nutilizing\\nmy\\nanalytical,\\nvisualization\\nand\\nproject\\nmanagement\\nskills.\\nSKILLS\\nMS\\nPowerBI\\n|\\nTableau\\n|\\nPython\\n|\\nHypothesis\\nTesting\\n|\\nA/B\\nTesting\\n|\\nMatplotlib\\n|\\nSeaborn\\n|\\nMachine\\nLearning\\n|\\nNLP\\nDAX\\n|\\nPowerQuery\\n|\\nSQL\\nAWS\\n|\\nHadoop\\n|\\nSpark\\n|\\nHive\\nJira\\n|\\nAsana\\n|\\nSharePoint\\nMicrosoft\\nOfﬁce\\nINTERESTS\\nTravel\\nBlogging-\\nStory\\nTelling\\nTravel\\nBlog\\nP\\nR\\nO\\nJ\\nE\\nC\\nT\\nS\\nData\\nScientist\\n|F l a v o rF u z e\\nFEB\\n2024,\\nBrainStation\\nData\\nScience\\nDiploma-Capstone\\n●\\nDeveloped\\na\\nrecipe\\nrecommender\\nusing\\nMachine\\nLearning\\nconcepts,\\nNatural\\nLanguage\\nProcessing\\n(Word2Vec,\\nCosine,\\nFunkSVD)\\nand\\nPython\\ntool\\nfor\\nkeyword\\nand\\ningredient-based\\nsearches.\\nE\\nD\\nU\\nC\\nA\\nT\\nI\\nO\\nN\\nBrainStation\\n|\\nData\\nScience\\nDiploma\\n(JUNE\\n2023-\\nFEB\\n2024,\\nCANADA\\n)\\nMicrosoft\\n|\\nCertiﬁed\\nPowerBI\\nData\\nAnalyst\\nAssociate\\n(JAN\\n2024)\\nSri\\nJaywardenapura\\nUniversity\\n|\\nMasters\\nin\\nBusiness\\nAdministration\\n(JAN\\n2018-\\nMAY\\n2020,\\nSRI\\nLANKA\\n)\\n●\\nMerit\\nAward\\nfor\\nExcellent\\nPerformance\\nCIMA\\nUK\\n|\\nBachelors\\nDegree\\n(Management\\nAccounting\\n(OCT\\n2011-MAY\\n2014,\\nUK)\\n●\\nWorld\\nRank\\n-\\n22,\\nSri\\nLanka\\nRank-\\n01\\nE\\nX\\nP\\nE\\nR\\nI\\nE\\nN\\nC\\nE\\nAnalyst\\n-\\nSupply\\nChain\\nAnalytics\\n|\\nW esco\\nFEB\\n2024-\\nPRESENT,\\nCANADA\\n●\\nCreated\\na\\nPowerBI\\ntool\\nto\\nfulﬁl\\n10%\\nof\\nbackorders,\\naccelerating\\nsales\\nby \\nmapping\\ndata\\nto\\nidentify\\nwarehouses\\nand\\nsubstitute\\nmaterials.\\nProject\\nManager\\n|\\nW esco\\nNOV\\n2022-\\nFEB\\n2024,\\nCANADA\\n●\\nDeveloped\\n17\\nBusiness\\nIntelligence\\nreports\\nusing\\nMS\\nPowerBI,\\nreducing \\nreport\\ngeneration\\ntime\\nby\\n90%\\nfor\\nbroadband\\nclients\\nlike\\nTelus.\\n●\\nAutomated\\nreporting\\nprocesses\\nand\\ntransformed\\ndata\\nfrom\\nvarious\\nsources \\n(200,000+\\nrecords/report)\\nusing\\nDAX\\nand\\nPowerQuery.\\n●\\nConducted\\nMarket\\nBasket\\nAnalysis\\nfor\\n~90,000\\nshopping\\ntransactions, \\nenhancing\\nthe\\nshopping\\nsite\\nwith\\nfrequently\\nbought\\nitems\\nfor\\n1000+\\nSKUs \\nusing\\nthe\\napriori\\nalgorithm.\\nAssistant\\nManager-\\nData\\nAnalytics\\n|\\nMAS\\nHoldings\\nAPRIL\\n2022\\n-\\nSEP\\n2022,\\nSRI\\nLANKA\\n●\\nLed\\na\\nteam\\nof\\n3\\nData\\nAnalysts\\nand\\n2\\nBusiness\\nAnalysts,\\ngenerating\\n15 \\nBusiness\\nIntelligence\\nreports\\nusing\\nMS\\nPowerBI\\nand\\nAgile\\nmethodologies.\\n●\\nDeveloped\\na\\nData\\nAnalytics\\nStrategy\\nto\\nfuture-proof\\nthe\\norganization, \\ncatering\\nto\\nUSD\\n120M\\nin\\nrevenue\\nfrom\\nclients\\nlike\\nArtitiza\\nand\\nCalvin\\nKlein.\\n●\\nIdentiﬁed\\n50\\nopportunities\\nacross\\n10\\ndepartments\\nand\\ndeveloped\\na \\nframework\\nfor\\nopportunity\\nassessments\\nto\\nprioritize\\nData\\nAnalytics\\nprojects.\\nBusiness\\nAnalyst/\\nSenior\\nBusiness\\nAnalyst\\n|\\nMAS\\nHoldings\\nMAR\\n2016-\\nAPRIL\\n2022,\\nSRI\\nLANKA\\n●\\nActed\\nas\\nthe\\nYoung\\nLead\\nto\\nlead\\nDigital\\nProjects\\nsuch\\nas\\nPLM\\nsystems,\\n3D\\nsampling,\\nand\\nVirtual\\nShowrooms,\\nsaving\\n$80,000/year\\nby\\ndeﬁning\\nproject\\nscope,\\nSMART\\ngoals,\\nand\\ndeliverables.\\n'"
            ]
          },
          "execution_count": 6,
          "metadata": {},
          "output_type": "execute_result"
        }
      ],
      "source": [
        "#checking the resume contents\n",
        "resume_text"
      ]
    },
    {
      "cell_type": "markdown",
      "metadata": {},
      "source": [
        "# <a id='toc2_'></a>[Resume Score](#toc0_)"
      ]
    },
    {
      "cell_type": "markdown",
      "metadata": {},
      "source": [
        "## <a id='toc2_1_'></a>[Tokenization](#toc0_)"
      ]
    },
    {
      "cell_type": "markdown",
      "id": "8VPE8eel9Lhc",
      "metadata": {
        "id": "8VPE8eel9Lhc"
      },
      "source": [
        "Next I will\n",
        "- break each word list to tokens/words\n",
        "- lower case\n",
        "- remove stop words\n",
        "- remove verbs\n",
        "- remove measuring word\n",
        "- remove characters and numbers\n",
        "\n",
        "All this is done to remove any impact from those words/tokens to the tool as the recommendation engine should only map for the true words/skills."
      ]
    },
    {
      "cell_type": "code",
      "execution_count": 7,
      "id": "it4Ec-TQ9Lhc",
      "metadata": {
        "id": "it4Ec-TQ9Lhc"
      },
      "outputs": [],
      "source": [
        "#parser to process the jd words/skills\n",
        "\n",
        "def parser(input_keys): #function\n",
        "    \n",
        "\n",
        "    word_list = re.split('\\n', input_keys) #splitting the words by commas\n",
        "\n",
        "    cleaned_words = [] #new list to store cleaned words\n",
        "\n",
        "    lemmatizer = WordNetLemmatizer() #lemmatizer\n",
        "\n",
        "    for word in word_list:\n",
        "        items = re.split(' ', word)  #splitting each word by space to process and clean each individual word\n",
        "\n",
        "        items = [word for word in items if word.isalpha()] #filtering only letters\n",
        "\n",
        "        items = [word.lower() for word in items] #lowercasing\n",
        "\n",
        "        items = [lemmatizer.lemmatize(word) for word in items] #lemmatizing\n",
        "\n",
        "        items = [word for word in items if word not in ENGLISH_STOP_WORDS] #removing stop words\n",
        "\n",
        "        if items:\n",
        "            #cleaned_wprds.append(' '.join(items) ) #joining the individual words of the word seperated by space\n",
        "            cleaned_words.extend(items)\n",
        "    \n",
        "\n",
        "    return cleaned_words #return the list\n"
      ]
    },
    {
      "cell_type": "code",
      "execution_count": 8,
      "metadata": {},
      "outputs": [],
      "source": [
        "# parser to process the resume words\n",
        "\n",
        "def parser_resume(input_keys): #function\n",
        "    \n",
        "\n",
        "    word_list = re.split('\\n', input_keys) #splitting the skills by commas\n",
        "\n",
        "    cleaned_words = [] #new list to store cleaned words\n",
        "\n",
        "    lemmatizer = WordNetLemmatizer() #lemmatizer\n",
        "\n",
        "    for word in word_list:\n",
        "        items = re.split(' ', word)  #splitting each word by space to process and clean each individual word\n",
        "\n",
        "        items = [word for word in items if word.isalpha()] #filtering only letters\n",
        "\n",
        "        items = [word.lower() for word in items] #lowercasing\n",
        "\n",
        "        items = [lemmatizer.lemmatize(word) for word in items] #lemmatizing\n",
        "\n",
        "        items = [word for word in items if word not in ENGLISH_STOP_WORDS] #removing stop words\n",
        "\n",
        "        if items:\n",
        "            cleaned_words.append(' '.join(items) ) #joining the individual words of the resume seperated by space\n",
        "            #cleaned_words.extend(items)\n",
        "    \n",
        "\n",
        "    return cleaned_words #return the list\n"
      ]
    },
    {
      "cell_type": "markdown",
      "id": "Rwhw4k0J9Lhc",
      "metadata": {
        "id": "Rwhw4k0J9Lhc"
      },
      "source": [
        "Perfect, I have my words seperated by a comma in original form."
      ]
    },
    {
      "cell_type": "markdown",
      "metadata": {},
      "source": [
        "## <a id='toc2_2_'></a>[Modeling](#toc0_)"
      ]
    },
    {
      "cell_type": "markdown",
      "metadata": {},
      "source": [
        "### <a id='toc2_2_1_'></a>[Word2vec](#toc0_)"
      ]
    },
    {
      "cell_type": "markdown",
      "id": "UDLVxtyp9Lhh",
      "metadata": {
        "id": "UDLVxtyp9Lhh"
      },
      "source": [
        "Since this is a text analysis, I will use Word2vec which will enable creating embeddings for each word which then can be  converted to a vector for further analysis.I will use an example skill set to compare against the resume."
      ]
    },
    {
      "cell_type": "code",
      "execution_count": 9,
      "metadata": {},
      "outputs": [],
      "source": [
        "#skills\n",
        "skills= 'Data Visualization, Data Cleaning , MATLAB , R , Python , SQL and NoSQL, Machine Learning, Linear Algebra and Calculus, Microsoft Excel, Critical Thinking'"
      ]
    },
    {
      "cell_type": "code",
      "execution_count": 10,
      "metadata": {},
      "outputs": [],
      "source": [
        "#jd words= cleaned skills \n",
        "jd_words= parser(skills)"
      ]
    },
    {
      "cell_type": "code",
      "execution_count": 11,
      "metadata": {},
      "outputs": [
        {
          "data": {
            "text/plain": [
              "['data',\n",
              " 'data',\n",
              " 'cleaning',\n",
              " 'matlab',\n",
              " 'r',\n",
              " 'python',\n",
              " 'sql',\n",
              " 'machine',\n",
              " 'linear',\n",
              " 'algebra',\n",
              " 'microsoft',\n",
              " 'critical',\n",
              " 'thinking']"
            ]
          },
          "execution_count": 11,
          "metadata": {},
          "output_type": "execute_result"
        }
      ],
      "source": [
        "#sanity check\n",
        "jd_words"
      ]
    },
    {
      "cell_type": "code",
      "execution_count": 12,
      "id": "51qjy3W19Lhi",
      "metadata": {
        "id": "51qjy3W19Lhi",
        "outputId": "fb3c78cb-474c-4147-9835-8296bd0caa79"
      },
      "outputs": [],
      "source": [
        "#word2vec model with starting parameters\n",
        "phrases_model=Word2Vec(sentences=[jd_words],min_count=1, sg=0, window=15, workers=8, vector_size=300, compute_loss=True)  #used min_count=1 to avoid any words being missed out"
      ]
    },
    {
      "cell_type": "markdown",
      "metadata": {},
      "source": [
        "### <a id='toc2_2_2_'></a>[Hyperparameter Evaluation](#toc0_)"
      ]
    },
    {
      "cell_type": "markdown",
      "id": "860c6314",
      "metadata": {},
      "source": [
        "Now I will check different options with the model to check which gives the lowest compute loss"
      ]
    },
    {
      "cell_type": "code",
      "execution_count": 13,
      "id": "16474b49",
      "metadata": {},
      "outputs": [
        {
          "data": {
            "text/plain": [
              "43.12189865112305"
            ]
          },
          "execution_count": 13,
          "metadata": {},
          "output_type": "execute_result"
        }
      ],
      "source": [
        "#loss with vector size 300\n",
        "phrases_model.get_latest_training_loss()"
      ]
    },
    {
      "cell_type": "code",
      "execution_count": 14,
      "id": "0916e482",
      "metadata": {},
      "outputs": [
        {
          "data": {
            "text/plain": [
              "43.10972213745117"
            ]
          },
          "execution_count": 14,
          "metadata": {},
          "output_type": "execute_result"
        }
      ],
      "source": [
        "#vector size 200\n",
        "phrases_model=Word2Vec(sentences=[jd_words],min_count=1, sg=0, window=15, workers=8, vector_size=200, compute_loss=True)\n",
        "phrases_model.get_latest_training_loss()"
      ]
    },
    {
      "cell_type": "code",
      "execution_count": 15,
      "id": "c2be8978",
      "metadata": {},
      "outputs": [
        {
          "data": {
            "text/plain": [
              "43.103633880615234"
            ]
          },
          "execution_count": 15,
          "metadata": {},
          "output_type": "execute_result"
        }
      ],
      "source": [
        "#vector size 100\n",
        "phrases_model=Word2Vec(sentences=[jd_words],min_count=1, sg=0, window=15, workers=8, vector_size=100, compute_loss=True)\n",
        "phrases_model.get_latest_training_loss()"
      ]
    },
    {
      "cell_type": "markdown",
      "id": "ed8d7e5e",
      "metadata": {},
      "source": [
        "As per above, vector size 100, window size=15 and hs_val=0 gives the lowest loss factor, Combining with the earlier training losses, I will proceed with below. \n",
        "\n",
        "Final model selection:\n",
        " - vector size= 100\n",
        " - hs= 0\n",
        " - window= 15"
      ]
    },
    {
      "cell_type": "code",
      "execution_count": 16,
      "id": "3ffbeb36",
      "metadata": {},
      "outputs": [],
      "source": [
        "#final model\n",
        "phrases_model=Word2Vec(sentences=[jd_words],min_count=1, sg=0, window=15, workers=8, vector_size=100, compute_loss=True, hs=0)"
      ]
    },
    {
      "cell_type": "markdown",
      "metadata": {},
      "source": [
        "### <a id='toc2_2_3_'></a>[Word Embeddings](#toc0_)"
      ]
    },
    {
      "cell_type": "markdown",
      "id": "512edd47",
      "metadata": {},
      "source": [
        "Checking similar words to different words/skills if the model has been trained well.  "
      ]
    },
    {
      "cell_type": "code",
      "execution_count": 17,
      "id": "20e70481",
      "metadata": {},
      "outputs": [],
      "source": [
        "#getting the word embeddings to compare different words\n",
        "embeddings= {word: phrases_model.wv[word] for word in phrases_model.wv.index_to_key} "
      ]
    },
    {
      "cell_type": "code",
      "execution_count": 18,
      "id": "a279c375",
      "metadata": {},
      "outputs": [
        {
          "name": "stdout",
          "output_type": "stream",
          "text": [
            "[('r', 0.2160883992910385), ('sql', 0.09306246787309647), ('cleaning', 0.08005889505147934), ('matlab', 0.06294546276330948), ('python', 0.027115024626255035)]\n"
          ]
        }
      ],
      "source": [
        "print(phrases_model.wv.most_similar(u'data', topn=5)) #checking the most similar results for onion"
      ]
    },
    {
      "cell_type": "markdown",
      "id": "RclKh9Gk9Lhi",
      "metadata": {
        "id": "RclKh9Gk9Lhi"
      },
      "source": [
        "I will try to use a tile map to show the similarity of a few words."
      ]
    },
    {
      "cell_type": "code",
      "execution_count": 19,
      "id": "0Q7LfVBv9Lhi",
      "metadata": {
        "id": "0Q7LfVBv9Lhi",
        "outputId": "d40edfe7-67f0-459f-b5e3-e275cabbec6f"
      },
      "outputs": [
        {
          "data": {
            "image/png": "[encoded data removed]",
            "text/plain": [
              "<Figure size 2000x500 with 2 Axes>"
            ]
          },
          "metadata": {},
          "output_type": "display_data"
        }
      ],
      "source": [
        "word_list = ['data', 'machine'] #example\n",
        "\n",
        "plt.subplots(len(word_list), 1, figsize=(20, 5)) #plot\n",
        "\n",
        "for i, word in enumerate(word_list): #for loop to get each word in the list\n",
        "    plt.subplot(len(word_list), 1, i + 1) #subplot\n",
        "    plt.imshow(np.tile(embeddings[word], (10, 1))) #data\n",
        "    plt.xticks([]) #no xticks\n",
        "    plt.yticks([]) #no yticks\n",
        "    plt.title(f\"\\\"{word}\\\" embedding vector\") #title\n",
        "\n",
        "plt.tight_layout()\n",
        "plt.show()"
      ]
    },
    {
      "cell_type": "markdown",
      "id": "dDqvkyL39Lhi",
      "metadata": {
        "id": "dDqvkyL39Lhi"
      },
      "source": [
        "It is visible that words represent different distributions. Looks good. "
      ]
    },
    {
      "cell_type": "markdown",
      "metadata": {},
      "source": [
        "## <a id='toc2_3_'></a>[Vectorisation & Recommendation](#toc0_)"
      ]
    },
    {
      "cell_type": "markdown",
      "metadata": {},
      "source": [
        "Next I will create a function to do the comparison operation. This is done by taking the mean of the vectors created for words and then using those mean vectors to calculate the cosine similarity between the resume and the jd skills."
      ]
    },
    {
      "cell_type": "code",
      "execution_count": 20,
      "id": "242d95fe",
      "metadata": {},
      "outputs": [],
      "source": [
        "\n",
        "def recommender(resume_input):\n",
        "\n",
        "    \n",
        "    resume_input=parser_resume(resume_input)\n",
        "    \n",
        "   \n",
        "    \n",
        "\n",
        "# mean Embeddings for User Input\n",
        "    resume_mean_vector =np.mean([phrases_model.wv[word] for word in resume_input if word in phrases_model.wv] or [np.zeros(100)], axis=0)\n",
        "\n",
        "\n",
        "\n",
        "\n",
        "# check if user_mean_vector contains NaN values\n",
        "    if np.isnan(resume_mean_vector).any():\n",
        "        print(\"Resume input vectors contain NaN values.\")\n",
        "\n",
        "\n",
        "    else:\n",
        "\n",
        "    # mean  vectors\n",
        "       jd_vectors =np.mean([phrases_model.wv[word] for word in jd_words if word in phrases_model.wv] or [np.zeros(100)], axis=0)\n",
        "\n",
        "\n",
        "\n",
        "\n",
        "    # Check if any vector contains NaN values\n",
        "    if not jd_vectors.any():\n",
        "            print('nothing obtained for JD vectors')\n",
        "\n",
        "    else:\n",
        "        \n",
        "        # cosine similarity between user mean vector and resume mean vectors\n",
        "            \n",
        "            resume_mean_vector = resume_mean_vector.reshape(1,-1)\n",
        "            jd_vectors= jd_vectors.reshape(1,-1)\n",
        "            \n",
        "            print(\"user_mean_vector shape:\", resume_mean_vector.shape)\n",
        "            print(\"resume_vectors shape:\", jd_vectors.shape)\n",
        "            \n",
        "            \n",
        "                                                        \n",
        "            cosine_similarities = cosine_similarity(resume_mean_vector, jd_vectors)\n",
        "\n",
        "\n",
        "\n",
        "    return cosine_similarities\n",
        "  \n"
      ]
    },
    {
      "cell_type": "code",
      "execution_count": 21,
      "metadata": {},
      "outputs": [
        {
          "name": "stdout",
          "output_type": "stream",
          "text": [
            "user_mean_vector shape: (1, 100)\n",
            "resume_vectors shape: (1, 100)\n"
          ]
        },
        {
          "data": {
            "text/plain": [
              "array([[0.6900322]], dtype=float32)"
            ]
          },
          "execution_count": 21,
          "metadata": {},
          "output_type": "execute_result"
        }
      ],
      "source": [
        "#running the recommender\n",
        "recommender(resume_text)"
      ]
    },
    {
      "cell_type": "markdown",
      "metadata": {},
      "source": [
        "# <a id='toc3_'></a>[Missing Words](#toc0_)"
      ]
    },
    {
      "cell_type": "markdown",
      "metadata": {},
      "source": [
        "Next I will check the common and missing words between the JD and the resume and hilight them. "
      ]
    },
    {
      "cell_type": "code",
      "execution_count": 22,
      "metadata": {},
      "outputs": [],
      "source": [
        "jd_cleaned = parser(skills)\n",
        "jd_cleaned= ' '.join(jd_cleaned)\n",
        "\n",
        "resume_cleaned = parser_resume(resume_text)\n",
        "resume_cleaned= ' '.join(resume_cleaned)\n",
        "\n",
        "#combining the cleaned words from the resume and the jd\n",
        "combined_text = [resume_cleaned, jd_cleaned]"
      ]
    },
    {
      "cell_type": "code",
      "execution_count": 23,
      "metadata": {},
      "outputs": [],
      "source": [
        "#defining a count vectoriser\n",
        "vectorizer = CountVectorizer()\n",
        "\n",
        "# fit and transform the vectorizer on the list of texts\n",
        "X = vectorizer.fit_transform(combined_text)\n",
        "\n",
        "# get the feature names (words) from the vectorizer\n",
        "feature_names = vectorizer.get_feature_names_out()\n",
        "\n",
        "# convert the sparse matrix to a dense array\n",
        "dense_array = X.toarray()\n"
      ]
    },
    {
      "cell_type": "code",
      "execution_count": 24,
      "metadata": {},
      "outputs": [
        {
          "name": "stdout",
          "output_type": "stream",
          "text": [
            "Common Words: ['data', 'machine', 'microsoft', 'python', 'sql']\n",
            "Missing Words in Resume: ['algebra', 'cleaning', 'critical', 'linear', 'matlab', 'thinking']\n"
          ]
        }
      ],
      "source": [
        "#getting the resum and jd vectors seperately\n",
        "resume_vector = X[0].toarray()\n",
        "jd_vector = X[1].toarray()\n",
        "\n",
        "# extract words present in both the JD and resume\n",
        "common_words = [word for word in feature_names if resume_vector[0, vectorizer.vocabulary_[word]] > 0 and jd_vector[0, vectorizer.vocabulary_[word]] > 0]\n",
        "\n",
        "# extract words present in the JD but missing in the resume\n",
        "missing_words_in_resume = [word for word in feature_names if jd_vector[0, vectorizer.vocabulary_[word]] > 0 and resume_vector[0, vectorizer.vocabulary_[word]] == 0]\n",
        "\n",
        "# display the results\n",
        "print(\"Common Words:\", common_words)\n",
        "print(\"Missing Words in Resume:\", missing_words_in_resume)"
      ]
    },
    {
      "cell_type": "markdown",
      "id": "2439d012",
      "metadata": {},
      "source": []
    }
  ],
  "metadata": {
    "colab": {
      "provenance": []
    },
    "kernelspec": {
      "display_name": "base",
      "language": "python",
      "name": "python3"
    },
    "language_info": {
      "codemirror_mode": {
        "name": "ipython",
        "version": 3
      },
      "file_extension": ".py",
      "mimetype": "text/x-python",
      "name": "python",
      "nbconvert_exporter": "python",
      "pygments_lexer": "ipython3",
      "version": "3.11.6"
    }
  },
  "nbformat": 4,
  "nbformat_minor": 5
}
